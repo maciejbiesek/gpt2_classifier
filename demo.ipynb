{
  "nbformat": 4,
  "nbformat_minor": 0,
  "metadata": {
    "colab": {
      "name": "emotions_classifier.ipynb",
      "provenance": [],
      "collapsed_sections": []
    },
    "kernelspec": {
      "name": "python3",
      "display_name": "Python 3"
    },
    "language_info": {
      "name": "python"
    },
    "accelerator": "GPU"
  },
  "cells": [
    {
      "cell_type": "markdown",
      "metadata": {
        "id": "tSkKSv9jV4sA"
      },
      "source": [
        "### Imports"
      ]
    },
    {
      "cell_type": "code",
      "metadata": {
        "id": "fY_oyitPBFJ6"
      },
      "source": [
        "import torch\n",
        "\n",
        "import pandas as pd\n",
        "\n",
        "from transformers import GPT2Tokenizer\n",
        "from sklearn.metrics import classification_report\n",
        "\n",
        "from prepare_data import prepare_dicts, prepare_train_data, prepare_prediction_data\n",
        "from model import GPT2Classifier"
      ],
      "execution_count": 1,
      "outputs": []
    },
    {
      "cell_type": "markdown",
      "metadata": {
        "id": "kg3Y5nqdV7xi"
      },
      "source": [
        "### Loading and analyzing the data"
      ]
    },
    {
      "cell_type": "code",
      "metadata": {
        "id": "zW63hLTBHHPs"
      },
      "source": [
        "df = pd.read_csv(\"data/data.csv\")"
      ],
      "execution_count": 2,
      "outputs": []
    },
    {
      "cell_type": "code",
      "metadata": {
        "id": "VhN-kyB7Ki-9",
        "colab": {
          "base_uri": "https://localhost:8080/",
          "height": 204
        },
        "outputId": "fca6f0f4-035d-42a0-d329-e0a742ec9ffd"
      },
      "source": [
        "df.head()"
      ],
      "execution_count": 3,
      "outputs": [
        {
          "output_type": "execute_result",
          "data": {
            "text/html": [
              "<div>\n",
              "<style scoped>\n",
              "    .dataframe tbody tr th:only-of-type {\n",
              "        vertical-align: middle;\n",
              "    }\n",
              "\n",
              "    .dataframe tbody tr th {\n",
              "        vertical-align: top;\n",
              "    }\n",
              "\n",
              "    .dataframe thead th {\n",
              "        text-align: right;\n",
              "    }\n",
              "</style>\n",
              "<table border=\"1\" class=\"dataframe\">\n",
              "  <thead>\n",
              "    <tr style=\"text-align: right;\">\n",
              "      <th></th>\n",
              "      <th>Text</th>\n",
              "      <th>Emotion</th>\n",
              "    </tr>\n",
              "  </thead>\n",
              "  <tbody>\n",
              "    <tr>\n",
              "      <th>0</th>\n",
              "      <td>i didnt feel humiliated</td>\n",
              "      <td>sadness</td>\n",
              "    </tr>\n",
              "    <tr>\n",
              "      <th>1</th>\n",
              "      <td>i can go from feeling so hopeless to so damned...</td>\n",
              "      <td>sadness</td>\n",
              "    </tr>\n",
              "    <tr>\n",
              "      <th>2</th>\n",
              "      <td>im grabbing a minute to post i feel greedy wrong</td>\n",
              "      <td>anger</td>\n",
              "    </tr>\n",
              "    <tr>\n",
              "      <th>3</th>\n",
              "      <td>i am ever feeling nostalgic about the fireplac...</td>\n",
              "      <td>love</td>\n",
              "    </tr>\n",
              "    <tr>\n",
              "      <th>4</th>\n",
              "      <td>i am feeling grouchy</td>\n",
              "      <td>anger</td>\n",
              "    </tr>\n",
              "  </tbody>\n",
              "</table>\n",
              "</div>"
            ],
            "text/plain": [
              "                                                Text  Emotion\n",
              "0                            i didnt feel humiliated  sadness\n",
              "1  i can go from feeling so hopeless to so damned...  sadness\n",
              "2   im grabbing a minute to post i feel greedy wrong    anger\n",
              "3  i am ever feeling nostalgic about the fireplac...     love\n",
              "4                               i am feeling grouchy    anger"
            ]
          },
          "metadata": {},
          "execution_count": 3
        }
      ]
    },
    {
      "cell_type": "code",
      "source": [
        "df = df.drop_duplicates(subset='Text')"
      ],
      "metadata": {
        "id": "2gAlM7wqY-Ub"
      },
      "execution_count": 4,
      "outputs": []
    },
    {
      "cell_type": "code",
      "metadata": {
        "id": "KLc9qPqfFnr3",
        "colab": {
          "base_uri": "https://localhost:8080/"
        },
        "outputId": "124014e8-b98b-4c89-f9d0-0a7f672ec30f"
      },
      "source": [
        "df.shape"
      ],
      "execution_count": 5,
      "outputs": [
        {
          "output_type": "execute_result",
          "data": {
            "text/plain": [
              "(21405, 2)"
            ]
          },
          "metadata": {},
          "execution_count": 5
        }
      ]
    },
    {
      "cell_type": "code",
      "metadata": {
        "id": "NE8W8Z4oIGdX",
        "colab": {
          "base_uri": "https://localhost:8080/"
        },
        "outputId": "e9e3e08a-f4d6-4971-ca03-e5dcde233a56"
      },
      "source": [
        "df.info()"
      ],
      "execution_count": 6,
      "outputs": [
        {
          "output_type": "stream",
          "name": "stdout",
          "text": [
            "<class 'pandas.core.frame.DataFrame'>\n",
            "Int64Index: 21405 entries, 0 to 21458\n",
            "Data columns (total 2 columns):\n",
            " #   Column   Non-Null Count  Dtype \n",
            "---  ------   --------------  ----- \n",
            " 0   Text     21405 non-null  object\n",
            " 1   Emotion  21405 non-null  object\n",
            "dtypes: object(2)\n",
            "memory usage: 501.7+ KB\n"
          ]
        }
      ]
    },
    {
      "cell_type": "code",
      "metadata": {
        "id": "nLd2BaPBEC8r",
        "colab": {
          "base_uri": "https://localhost:8080/"
        },
        "outputId": "834690d0-4329-4849-8e47-7bd9e4e4ecd3"
      },
      "source": [
        "df['Emotion'].value_counts()"
      ],
      "execution_count": 7,
      "outputs": [
        {
          "output_type": "execute_result",
          "data": {
            "text/plain": [
              "happy       7008\n",
              "sadness     6261\n",
              "anger       2986\n",
              "fear        2647\n",
              "love        1630\n",
              "surprise     873\n",
              "Name: Emotion, dtype: int64"
            ]
          },
          "metadata": {},
          "execution_count": 7
        }
      ]
    },
    {
      "cell_type": "code",
      "metadata": {
        "id": "-BAUhTzmUx9b",
        "colab": {
          "base_uri": "https://localhost:8080/"
        },
        "outputId": "dc3d95c0-e9c3-44b1-9a63-ac779ed95014"
      },
      "source": [
        "df['Text'].str.split().apply(len).describe([0.8, 0.9, 0.95])"
      ],
      "execution_count": 8,
      "outputs": [
        {
          "output_type": "execute_result",
          "data": {
            "text/plain": [
              "count    21405.000000\n",
              "mean        19.101098\n",
              "std         10.863802\n",
              "min          2.000000\n",
              "50%         17.000000\n",
              "80%         28.000000\n",
              "90%         34.000000\n",
              "95%         40.000000\n",
              "max         66.000000\n",
              "Name: Text, dtype: float64"
            ]
          },
          "metadata": {},
          "execution_count": 8
        }
      ]
    },
    {
      "cell_type": "markdown",
      "metadata": {
        "id": "9K0pR9c2WnVS"
      },
      "source": [
        "### Training the model"
      ]
    },
    {
      "cell_type": "code",
      "metadata": {
        "colab": {
          "base_uri": "https://localhost:8080/"
        },
        "id": "M6miVFOqWO6I",
        "outputId": "da02cce5-273b-4f44-82dc-0b4ab87d0d7c"
      },
      "source": [
        "df_test = df.groupby(by='Emotion').sample(frac=0.1).sample(frac=1)\\\n",
        "          .reset_index(drop=True)\n",
        "df_train = pd.concat([df, df_test]).drop_duplicates(keep=False).sample(frac=1)\\\n",
        "            .reset_index(drop=True)\n",
        "df_train.shape, df_test.shape"
      ],
      "execution_count": 9,
      "outputs": [
        {
          "output_type": "execute_result",
          "data": {
            "text/plain": [
              "((19264, 2), (2141, 2))"
            ]
          },
          "metadata": {},
          "execution_count": 9
        }
      ]
    },
    {
      "cell_type": "code",
      "metadata": {
        "id": "ckBGs_GoWUpq"
      },
      "source": [
        "texts = df_train['Text'].tolist()\n",
        "labels = df_train['Emotion'].tolist()"
      ],
      "execution_count": 10,
      "outputs": []
    },
    {
      "cell_type": "code",
      "metadata": {
        "colab": {
          "base_uri": "https://localhost:8080/"
        },
        "id": "CCYfiqra58HZ",
        "outputId": "78afe39a-8efc-463f-a44d-04bb11a3b22a"
      },
      "source": [
        "params = {\n",
        "    'epochs': 10,\n",
        "    'lr': 2e-5,\n",
        "    'eps': 1e-8,\n",
        "    'max_len': 64,\n",
        "    'batch_size': 32\n",
        "}\n",
        "\n",
        "tokenizer = GPT2Tokenizer.from_pretrained('gpt2')\n",
        "tokenizer.padding_side = 'left'\n",
        "tokenizer.pad_token = tokenizer.eos_token\n",
        "num_tokens = len(tokenizer)\n",
        "\n",
        "label2id, id2label = prepare_dicts(labels)\n",
        "train_dataloader, val_dataloader, weights = \\\n",
        "    prepare_train_data(texts, labels, label2id, params['max_len'], params['batch_size'], tokenizer)"
      ],
      "execution_count": 11,
      "outputs": [
        {
          "output_type": "stream",
          "name": "stderr",
          "text": [
            "/content/prepare_data.py:31: UserWarning: To copy construct from a tensor, it is recommended to use sourceTensor.clone().detach() or sourceTensor.clone().detach().requires_grad_(True), rather than torch.tensor(sourceTensor).\n",
            "  seqs = torch.tensor(inputs['input_ids'])\n",
            "/content/prepare_data.py:32: UserWarning: To copy construct from a tensor, it is recommended to use sourceTensor.clone().detach() or sourceTensor.clone().detach().requires_grad_(True), rather than torch.tensor(sourceTensor).\n",
            "  masks = torch.tensor(inputs['attention_mask'])\n"
          ]
        }
      ]
    },
    {
      "cell_type": "code",
      "metadata": {
        "colab": {
          "base_uri": "https://localhost:8080/"
        },
        "id": "bv9TYuIDYmYy",
        "outputId": "e88e8ac3-596e-4b62-f64b-16b0189056a0"
      },
      "source": [
        "cuda_available = torch.cuda.is_available()\n",
        "model = GPT2Classifier(params, num_tokens, label2id, id2label, cuda=cuda_available)\n",
        "metrics = model.fit(train_dataloader, val_dataloader)"
      ],
      "execution_count": 12,
      "outputs": [
        {
          "output_type": "stream",
          "name": "stderr",
          "text": [
            "Some weights of GPT2ForSequenceClassification were not initialized from the model checkpoint at gpt2 and are newly initialized: ['score.weight']\n",
            "You should probably TRAIN this model on a down-stream task to be able to use it for predictions and inference.\n",
            " 10%|█         | 1/10 [06:42<1:00:21, 402.34s/it]"
          ]
        },
        {
          "output_type": "stream",
          "name": "stdout",
          "text": [
            "Epoch: 1,  train_loss: 2.201,  train_acc: 0.322,  val_loss: 1.374,  val_acc: 0.529\n"
          ]
        },
        {
          "output_type": "stream",
          "name": "stderr",
          "text": [
            "\r 20%|██        | 2/10 [13:23<53:32, 401.55s/it]  "
          ]
        },
        {
          "output_type": "stream",
          "name": "stdout",
          "text": [
            "Epoch: 2,  train_loss: 0.977,  train_acc: 0.650,  val_loss: 0.618,  val_acc: 0.799\n"
          ]
        },
        {
          "output_type": "stream",
          "name": "stderr",
          "text": [
            "\r 30%|███       | 3/10 [20:04<46:49, 401.33s/it]"
          ]
        },
        {
          "output_type": "stream",
          "name": "stdout",
          "text": [
            "Epoch: 3,  train_loss: 0.558,  train_acc: 0.800,  val_loss: 0.422,  val_acc: 0.843\n"
          ]
        },
        {
          "output_type": "stream",
          "name": "stderr",
          "text": [
            "\r 40%|████      | 4/10 [26:45<40:06, 401.15s/it]"
          ]
        },
        {
          "output_type": "stream",
          "name": "stdout",
          "text": [
            "Epoch: 4,  train_loss: 0.417,  train_acc: 0.843,  val_loss: 0.383,  val_acc: 0.863\n"
          ]
        },
        {
          "output_type": "stream",
          "name": "stderr",
          "text": [
            "\r 50%|█████     | 5/10 [33:26<33:25, 401.14s/it]"
          ]
        },
        {
          "output_type": "stream",
          "name": "stdout",
          "text": [
            "Epoch: 5,  train_loss: 0.346,  train_acc: 0.869,  val_loss: 0.329,  val_acc: 0.867\n"
          ]
        },
        {
          "output_type": "stream",
          "name": "stderr",
          "text": [
            "\r 60%|██████    | 6/10 [40:07<26:44, 401.14s/it]"
          ]
        },
        {
          "output_type": "stream",
          "name": "stdout",
          "text": [
            "Epoch: 6,  train_loss: 0.310,  train_acc: 0.879,  val_loss: 0.327,  val_acc: 0.869\n"
          ]
        },
        {
          "output_type": "stream",
          "name": "stderr",
          "text": [
            "\r 70%|███████   | 7/10 [46:48<20:03, 401.20s/it]"
          ]
        },
        {
          "output_type": "stream",
          "name": "stdout",
          "text": [
            "Epoch: 7,  train_loss: 0.283,  train_acc: 0.886,  val_loss: 0.314,  val_acc: 0.875\n"
          ]
        },
        {
          "output_type": "stream",
          "name": "stderr",
          "text": [
            "\r 80%|████████  | 8/10 [53:30<13:22, 401.21s/it]"
          ]
        },
        {
          "output_type": "stream",
          "name": "stdout",
          "text": [
            "Epoch: 8,  train_loss: 0.264,  train_acc: 0.893,  val_loss: 0.314,  val_acc: 0.876\n"
          ]
        },
        {
          "output_type": "stream",
          "name": "stderr",
          "text": [
            "\r 90%|█████████ | 9/10 [1:00:11<06:41, 401.18s/it]"
          ]
        },
        {
          "output_type": "stream",
          "name": "stdout",
          "text": [
            "Epoch: 9,  train_loss: 0.250,  train_acc: 0.896,  val_loss: 0.310,  val_acc: 0.881\n"
          ]
        },
        {
          "output_type": "stream",
          "name": "stderr",
          "text": [
            "100%|██████████| 10/10 [1:06:52<00:00, 401.23s/it]"
          ]
        },
        {
          "output_type": "stream",
          "name": "stdout",
          "text": [
            "Epoch: 10,  train_loss: 0.240,  train_acc: 0.900,  val_loss: 0.310,  val_acc: 0.884\n"
          ]
        },
        {
          "output_type": "stream",
          "name": "stderr",
          "text": [
            "\n"
          ]
        }
      ]
    },
    {
      "cell_type": "code",
      "metadata": {
        "id": "cK-QVOlFcSFI",
        "colab": {
          "base_uri": "https://localhost:8080/",
          "height": 893
        },
        "outputId": "7dd59e73-6e8a-4f1f-eff5-f72e9eed8e9e"
      },
      "source": [
        "import matplotlib.pyplot as plt\n",
        "%matplotlib inline\n",
        "\n",
        "fig, (ax1, ax2) = plt.subplots(2, 1, figsize=(15, 15))\n",
        "\n",
        "ax1.plot(metrics['train_loss'])\n",
        "ax1.plot(metrics['val_loss'])\n",
        "ax1.set_xticks(range(1, params['epochs'] + 1))\n",
        "ax1.set(xlabel=\"epoch\", ylabel=\"loss\", title=\"Loss\")\n",
        "ax1.legend([\"train\", \"val\"])\n",
        "\n",
        "ax2.plot(metrics['train_acc'])\n",
        "ax2.plot(metrics['val_acc'])\n",
        "ax2.set_xticks(range(1, params['epochs'] + 1))\n",
        "ax2.set(xlabel=\"epoch\", ylabel=\"accuracy\", title=\"Accuracy\")\n",
        "ax2.legend([\"train\", \"val\"])\n",
        "\n",
        "plt.show()"
      ],
      "execution_count": 13,
      "outputs": [
        {
          "output_type": "display_data",
          "data": {
            "image/png": "[encoded data removed]",
            "text/plain": [
              "<Figure size 1080x1080 with 2 Axes>"
            ]
          },
          "metadata": {
            "needs_background": "light"
          }
        }
      ]
    },
    {
      "cell_type": "markdown",
      "metadata": {
        "id": "7JOmsdmmcSbT"
      },
      "source": [
        "### Evaluating on the test data"
      ]
    },
    {
      "cell_type": "code",
      "metadata": {
        "id": "SSlBYfYnXIlY",
        "colab": {
          "base_uri": "https://localhost:8080/"
        },
        "outputId": "af2270fd-6501-4ecf-c2cf-f5e423d256fe"
      },
      "source": [
        "texts_test = df_test['Text'].tolist()\n",
        "test_dataloader = prepare_prediction_data(\n",
        "    texts_test, params['max_len'], params['batch_size'], tokenizer\n",
        ")\n",
        "pred_labels_test = model.predict(test_dataloader)\n",
        "df_test['Emotion_predicted'] = pred_labels_test"
      ],
      "execution_count": 14,
      "outputs": [
        {
          "output_type": "stream",
          "name": "stderr",
          "text": [
            "/content/prepare_data.py:31: UserWarning: To copy construct from a tensor, it is recommended to use sourceTensor.clone().detach() or sourceTensor.clone().detach().requires_grad_(True), rather than torch.tensor(sourceTensor).\n",
            "  seqs = torch.tensor(inputs['input_ids'])\n",
            "/content/prepare_data.py:32: UserWarning: To copy construct from a tensor, it is recommended to use sourceTensor.clone().detach() or sourceTensor.clone().detach().requires_grad_(True), rather than torch.tensor(sourceTensor).\n",
            "  masks = torch.tensor(inputs['attention_mask'])\n"
          ]
        }
      ]
    },
    {
      "cell_type": "code",
      "metadata": {
        "id": "gXhr45ZOfB4z",
        "colab": {
          "base_uri": "https://localhost:8080/"
        },
        "outputId": "4b55605a-f5ae-4fe9-9a81-840d504ee2c9"
      },
      "source": [
        "report = classification_report(df_test['Emotion'].tolist(), df_test['Emotion_predicted'].tolist())\n",
        "print(report)"
      ],
      "execution_count": 15,
      "outputs": [
        {
          "output_type": "stream",
          "name": "stdout",
          "text": [
            "              precision    recall  f1-score   support\n",
            "\n",
            "       anger       0.91      0.86      0.89       299\n",
            "        fear       0.87      0.87      0.87       265\n",
            "       happy       0.90      0.90      0.90       701\n",
            "        love       0.79      0.82      0.80       163\n",
            "     sadness       0.89      0.94      0.92       626\n",
            "    surprise       0.88      0.67      0.76        87\n",
            "\n",
            "    accuracy                           0.89      2141\n",
            "   macro avg       0.87      0.84      0.86      2141\n",
            "weighted avg       0.89      0.89      0.89      2141\n",
            "\n"
          ]
        }
      ]
    },
    {
      "cell_type": "code",
      "metadata": {
        "id": "J9f7aKJFfQpw",
        "colab": {
          "base_uri": "https://localhost:8080/",
          "height": 669
        },
        "outputId": "3ef65779-130b-446c-9f2c-cf3cb50a3d45"
      },
      "source": [
        "df_test.head(20)"
      ],
      "execution_count": 16,
      "outputs": [
        {
          "output_type": "execute_result",
          "data": {
            "text/html": [
              "<div>\n",
              "<style scoped>\n",
              "    .dataframe tbody tr th:only-of-type {\n",
              "        vertical-align: middle;\n",
              "    }\n",
              "\n",
              "    .dataframe tbody tr th {\n",
              "        vertical-align: top;\n",
              "    }\n",
              "\n",
              "    .dataframe thead th {\n",
              "        text-align: right;\n",
              "    }\n",
              "</style>\n",
              "<table border=\"1\" class=\"dataframe\">\n",
              "  <thead>\n",
              "    <tr style=\"text-align: right;\">\n",
              "      <th></th>\n",
              "      <th>Text</th>\n",
              "      <th>Emotion</th>\n",
              "      <th>Emotion_predicted</th>\n",
              "    </tr>\n",
              "  </thead>\n",
              "  <tbody>\n",
              "    <tr>\n",
              "      <th>0</th>\n",
              "      <td>i set off home feeling quite smug</td>\n",
              "      <td>happy</td>\n",
              "      <td>happy</td>\n",
              "    </tr>\n",
              "    <tr>\n",
              "      <th>1</th>\n",
              "      <td>i feel reassured that i am dealing with my die...</td>\n",
              "      <td>happy</td>\n",
              "      <td>happy</td>\n",
              "    </tr>\n",
              "    <tr>\n",
              "      <th>2</th>\n",
              "      <td>i see this ad i cringe and feel disturbed</td>\n",
              "      <td>sadness</td>\n",
              "      <td>sadness</td>\n",
              "    </tr>\n",
              "    <tr>\n",
              "      <th>3</th>\n",
              "      <td>He could see sorrow in the dark eyes which glo...</td>\n",
              "      <td>sadness</td>\n",
              "      <td>sadness</td>\n",
              "    </tr>\n",
              "    <tr>\n",
              "      <th>4</th>\n",
              "      <td>i really have much of a clue how my ex actuall...</td>\n",
              "      <td>anger</td>\n",
              "      <td>sadness</td>\n",
              "    </tr>\n",
              "    <tr>\n",
              "      <th>5</th>\n",
              "      <td>i think i should ignre this feeling for the sa...</td>\n",
              "      <td>happy</td>\n",
              "      <td>happy</td>\n",
              "    </tr>\n",
              "    <tr>\n",
              "      <th>6</th>\n",
              "      <td>i feel so rich when i pass by you i see a penny</td>\n",
              "      <td>happy</td>\n",
              "      <td>happy</td>\n",
              "    </tr>\n",
              "    <tr>\n",
              "      <th>7</th>\n",
              "      <td>i feel like a wimpy canoe floating towards a r...</td>\n",
              "      <td>fear</td>\n",
              "      <td>fear</td>\n",
              "    </tr>\n",
              "    <tr>\n",
              "      <th>8</th>\n",
              "      <td>i feel honored to be with many wonderful artis...</td>\n",
              "      <td>happy</td>\n",
              "      <td>happy</td>\n",
              "    </tr>\n",
              "    <tr>\n",
              "      <th>9</th>\n",
              "      <td>i feel like im being greedy when i say i want ...</td>\n",
              "      <td>anger</td>\n",
              "      <td>anger</td>\n",
              "    </tr>\n",
              "    <tr>\n",
              "      <th>10</th>\n",
              "      <td>i can feel innocent cuz i aint mean n bitchy</td>\n",
              "      <td>happy</td>\n",
              "      <td>happy</td>\n",
              "    </tr>\n",
              "    <tr>\n",
              "      <th>11</th>\n",
              "      <td>i was feeling clever so i changed the last lin...</td>\n",
              "      <td>happy</td>\n",
              "      <td>happy</td>\n",
              "    </tr>\n",
              "    <tr>\n",
              "      <th>12</th>\n",
              "      <td>i dont like the way i feel when i am angry</td>\n",
              "      <td>anger</td>\n",
              "      <td>anger</td>\n",
              "    </tr>\n",
              "    <tr>\n",
              "      <th>13</th>\n",
              "      <td>i feel sorry for rafael bosch</td>\n",
              "      <td>sadness</td>\n",
              "      <td>sadness</td>\n",
              "    </tr>\n",
              "    <tr>\n",
              "      <th>14</th>\n",
              "      <td>i often feel embarrassed for amount of time sp...</td>\n",
              "      <td>sadness</td>\n",
              "      <td>sadness</td>\n",
              "    </tr>\n",
              "    <tr>\n",
              "      <th>15</th>\n",
              "      <td>i am feeling a lot more positive about the fut...</td>\n",
              "      <td>happy</td>\n",
              "      <td>happy</td>\n",
              "    </tr>\n",
              "    <tr>\n",
              "      <th>16</th>\n",
              "      <td>i feel a change an anthem for the disillusioned</td>\n",
              "      <td>sadness</td>\n",
              "      <td>sadness</td>\n",
              "    </tr>\n",
              "    <tr>\n",
              "      <th>17</th>\n",
              "      <td>i trust though it may take more courage than i...</td>\n",
              "      <td>happy</td>\n",
              "      <td>love</td>\n",
              "    </tr>\n",
              "    <tr>\n",
              "      <th>18</th>\n",
              "      <td>i feel so horrible when i am not accomplishing...</td>\n",
              "      <td>sadness</td>\n",
              "      <td>sadness</td>\n",
              "    </tr>\n",
              "    <tr>\n",
              "      <th>19</th>\n",
              "      <td>i see anything that would cause me to feel fea...</td>\n",
              "      <td>fear</td>\n",
              "      <td>fear</td>\n",
              "    </tr>\n",
              "  </tbody>\n",
              "</table>\n",
              "</div>"
            ],
            "text/plain": [
              "                                                 Text  ... Emotion_predicted\n",
              "0                   i set off home feeling quite smug  ...             happy\n",
              "1   i feel reassured that i am dealing with my die...  ...             happy\n",
              "2           i see this ad i cringe and feel disturbed  ...           sadness\n",
              "3   He could see sorrow in the dark eyes which glo...  ...           sadness\n",
              "4   i really have much of a clue how my ex actuall...  ...           sadness\n",
              "5   i think i should ignre this feeling for the sa...  ...             happy\n",
              "6     i feel so rich when i pass by you i see a penny  ...             happy\n",
              "7   i feel like a wimpy canoe floating towards a r...  ...              fear\n",
              "8   i feel honored to be with many wonderful artis...  ...             happy\n",
              "9   i feel like im being greedy when i say i want ...  ...             anger\n",
              "10       i can feel innocent cuz i aint mean n bitchy  ...             happy\n",
              "11  i was feeling clever so i changed the last lin...  ...             happy\n",
              "12         i dont like the way i feel when i am angry  ...             anger\n",
              "13                      i feel sorry for rafael bosch  ...           sadness\n",
              "14  i often feel embarrassed for amount of time sp...  ...           sadness\n",
              "15  i am feeling a lot more positive about the fut...  ...             happy\n",
              "16    i feel a change an anthem for the disillusioned  ...           sadness\n",
              "17  i trust though it may take more courage than i...  ...              love\n",
              "18  i feel so horrible when i am not accomplishing...  ...           sadness\n",
              "19  i see anything that would cause me to feel fea...  ...              fear\n",
              "\n",
              "[20 rows x 3 columns]"
            ]
          },
          "metadata": {},
          "execution_count": 16
        }
      ]
    }
  ]
}